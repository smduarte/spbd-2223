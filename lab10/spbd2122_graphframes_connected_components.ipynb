{
  "cells": [
    {
      "cell_type": "markdown",
      "metadata": {
        "id": "view-in-github",
        "colab_type": "text"
      },
      "source": [
        "<a href=\"https://colab.research.google.com/github/smduarte/spbd-2223/blob/main/lab10/spbd2122_graphframes_connected_components.ipynb\" target=\"_parent\"><img src=\"https://colab.research.google.com/assets/colab-badge.svg\" alt=\"Open In Colab\"/></a>"
      ]
    },
    {
      "cell_type": "markdown",
      "metadata": {
        "id": "KgFZlT_g8O1Y"
      },
      "source": [
        "# SPBD 2022\n",
        "## GraphFrames Connected Components Example\n",
        "\n",
        "\n"
      ]
    },
    {
      "cell_type": "code",
      "execution_count": null,
      "metadata": {
        "id": "QBNFf7Q9xNGj",
        "colab": {
          "base_uri": "https://localhost:8080/"
        },
        "outputId": "d898847e-4f57-465d-d516-3268005de1b0"
      },
      "outputs": [
        {
          "output_type": "stream",
          "name": "stdout",
          "text": [
            "\u001b[K     |████████████████████████████████| 281.4 MB 38 kB/s \n",
            "\u001b[K     |████████████████████████████████| 199 kB 47.0 MB/s \n",
            "\u001b[?25h  Building wheel for pyspark (setup.py) ... \u001b[?25l\u001b[?25hdone\n"
          ]
        }
      ],
      "source": [
        "#@title Spark Setup\n",
        "!pip install pyspark findspark --quiet"
      ]
    },
    {
      "cell_type": "code",
      "execution_count": null,
      "metadata": {
        "id": "9xd2DZ6Cg_w4",
        "colab": {
          "base_uri": "https://localhost:8080/"
        },
        "outputId": "f421f526-eb06-4e80-9fff-f7695d3b28b1"
      },
      "outputs": [
        {
          "output_type": "stream",
          "name": "stdout",
          "text": [
            "+---+---+---+\n",
            "|id |i  |j  |\n",
            "+---+---+---+\n",
            "|a  |0  |0  |\n",
            "|b  |0  |1  |\n",
            "|c  |2  |2  |\n",
            "|d  |3  |2  |\n",
            "|e  |3  |3  |\n",
            "|f  |0  |2  |\n",
            "+---+---+---+\n",
            "\n",
            "+---+---+---+---+---+---+\n",
            "|id |i  |j  |id2|i2 |j2 |\n",
            "+---+---+---+---+---+---+\n",
            "|a  |0  |0  |a  |0  |0  |\n",
            "|a  |0  |0  |b  |0  |1  |\n",
            "|a  |0  |0  |c  |2  |2  |\n",
            "|b  |0  |1  |a  |0  |0  |\n",
            "|b  |0  |1  |b  |0  |1  |\n",
            "|b  |0  |1  |c  |2  |2  |\n",
            "|c  |2  |2  |a  |0  |0  |\n",
            "|c  |2  |2  |b  |0  |1  |\n",
            "|c  |2  |2  |c  |2  |2  |\n",
            "|a  |0  |0  |d  |3  |2  |\n",
            "|a  |0  |0  |e  |3  |3  |\n",
            "|a  |0  |0  |f  |0  |2  |\n",
            "|b  |0  |1  |d  |3  |2  |\n",
            "|b  |0  |1  |e  |3  |3  |\n",
            "|b  |0  |1  |f  |0  |2  |\n",
            "|c  |2  |2  |d  |3  |2  |\n",
            "|c  |2  |2  |e  |3  |3  |\n",
            "|c  |2  |2  |f  |0  |2  |\n",
            "|d  |3  |2  |a  |0  |0  |\n",
            "|d  |3  |2  |b  |0  |1  |\n",
            "+---+---+---+---+---+---+\n",
            "only showing top 20 rows\n",
            "\n",
            "root\n",
            " |-- id: string (nullable = true)\n",
            " |-- i: long (nullable = true)\n",
            " |-- j: long (nullable = true)\n",
            " |-- id2: string (nullable = true)\n",
            " |-- i2: long (nullable = true)\n",
            " |-- j2: long (nullable = true)\n",
            "\n",
            "+---+---+---+---+---+---+\n",
            "|id |i  |j  |id2|i2 |j2 |\n",
            "+---+---+---+---+---+---+\n",
            "|a  |0  |0  |a  |0  |0  |\n",
            "|b  |0  |1  |a  |0  |0  |\n",
            "|b  |0  |1  |b  |0  |1  |\n",
            "|c  |2  |2  |c  |2  |2  |\n",
            "|d  |3  |2  |c  |2  |2  |\n",
            "|f  |0  |2  |b  |0  |1  |\n",
            "|d  |3  |2  |d  |3  |2  |\n",
            "|e  |3  |3  |d  |3  |2  |\n",
            "|e  |3  |3  |e  |3  |3  |\n",
            "|f  |0  |2  |f  |0  |2  |\n",
            "+---+---+---+---+---+---+\n",
            "\n"
          ]
        }
      ],
      "source": [
        "from pyspark.sql import *\n",
        "from pyspark.sql.types import *\n",
        "from pyspark.sql.functions import *\n",
        "import numpy as np\n",
        "\n",
        "\n",
        "spark = SparkSession.builder.master('local[*]').appName('connectedComponents') \\\n",
        "        .config('spark.jars.packages', 'graphframes:graphframes:0.8.2-spark3.1-s_2.12')\\\n",
        "        .getOrCreate()\n",
        "\n",
        "cells = [(\"a\", 0, 0), (\"b\", 0, 1), (\"c\", 2, 2), (\"d\", 3, 2), (\"e\", 3, 3), (\"f\", 0, 2)]\n",
        "\n",
        "df = spark.createDataFrame(data=cells, schema = [\"id\",\"i\",\"j\"])\n",
        "df.show(truncate=False)\n",
        "\n",
        "df = df.crossJoin(df.withColumnRenamed(\"i\",\"i2\").withColumnRenamed(\"j\", \"j2\").withColumnRenamed(\"id\", \"id2\"))\n",
        "df.show(truncate=False)\n",
        "\n",
        "def _areNeighbours(li, lj, ri, rj):\n",
        "    dx = li - ri\n",
        "    dy = lj - rj\n",
        "    return (dx >= 0 and dx <= 1 and dy == 0) or (dx == 0 and dy >= 0 and dy <= 1)\n",
        "\n",
        "areNeighbours = udf(_areNeighbours)\n",
        "df = df.select('*', areNeighbours(df.i, df.j, df.i2, df.j2).alias(\"adjacent\")) \\\n",
        "\n",
        "df = df.filter( df.adjacent == True).drop('adjacent')\n",
        "df.printSchema()\n",
        "\n",
        "df.show(truncate=False)\n"
      ]
    },
    {
      "cell_type": "code",
      "source": [
        "vertices = df.select(df.id).distinct()\n",
        "\n",
        "vertices.show()\n",
        "\n",
        "edges = df.select(df.id.alias(\"src\"), df.id2.alias(\"dst\"))\n",
        "edges.show()"
      ],
      "metadata": {
        "colab": {
          "base_uri": "https://localhost:8080/"
        },
        "id": "tVwTryXNNa03",
        "outputId": "90ea1ea0-8b4e-4b94-9dcc-4d3bb8b7144e"
      },
      "execution_count": null,
      "outputs": [
        {
          "output_type": "stream",
          "name": "stdout",
          "text": [
            "+---+\n",
            "| id|\n",
            "+---+\n",
            "|  c|\n",
            "|  b|\n",
            "|  a|\n",
            "|  f|\n",
            "|  d|\n",
            "|  e|\n",
            "+---+\n",
            "\n",
            "+---+---+\n",
            "|src|dst|\n",
            "+---+---+\n",
            "|  a|  a|\n",
            "|  b|  a|\n",
            "|  b|  b|\n",
            "|  c|  c|\n",
            "|  d|  c|\n",
            "|  f|  b|\n",
            "|  d|  d|\n",
            "|  e|  d|\n",
            "|  e|  e|\n",
            "|  f|  f|\n",
            "+---+---+\n",
            "\n"
          ]
        }
      ]
    },
    {
      "cell_type": "code",
      "source": [
        "from graphframes import *\n",
        "spark.sparkContext.setCheckpointDir(\".\")\n",
        "g = GraphFrame(vertices, edges)\n",
        "\n",
        "#result = g.connectedComponents(algorithm=\"graphx\")\n",
        "#result.select(\"id\", \"component\").orderBy(\"component\").show()\n",
        "\n",
        "result = g.connectedComponents()\n",
        "result.select(\"id\", \"component\").orderBy(\"component\").show()"
      ],
      "metadata": {
        "colab": {
          "base_uri": "https://localhost:8080/"
        },
        "id": "6MPVx4eCPOTP",
        "outputId": "83443360-a2ed-42e4-8de0-0c6730c60250"
      },
      "execution_count": null,
      "outputs": [
        {
          "output_type": "stream",
          "name": "stdout",
          "text": [
            "+---+------------+\n",
            "| id|   component|\n",
            "+---+------------+\n",
            "|  a|412316860416|\n",
            "|  b|412316860416|\n",
            "|  f|412316860416|\n",
            "|  c|670014898176|\n",
            "|  d|670014898176|\n",
            "|  e|670014898176|\n",
            "+---+------------+\n",
            "\n"
          ]
        }
      ]
    }
  ],
  "metadata": {
    "colab": {
      "collapsed_sections": [
        "kdTj-7SD-67o",
        "8M6lYfT_BpAO"
      ],
      "provenance": [],
      "include_colab_link": true
    },
    "kernelspec": {
      "display_name": "Python 3",
      "name": "python3"
    },
    "language_info": {
      "name": "python"
    }
  },
  "nbformat": 4,
  "nbformat_minor": 0
}