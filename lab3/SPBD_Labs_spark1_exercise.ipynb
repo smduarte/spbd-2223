{
  "cells": [
    {
      "cell_type": "markdown",
      "metadata": {
        "id": "view-in-github",
        "colab_type": "text"
      },
      "source": [
        "<a href=\"https://colab.research.google.com/github/smduarte/spbd-2223/blob/main/lab3/SPBD_Labs_spark1_exercise.ipynb\" target=\"_parent\"><img src=\"https://colab.research.google.com/assets/colab-badge.svg\" alt=\"Open In Colab\"/></a>"
      ]
    },
    {
      "cell_type": "markdown",
      "metadata": {
        "id": "CtsPM1Z4HH7M"
      },
      "source": [
        "# Python Spark Exercises\n"
      ]
    },
    {
      "cell_type": "code",
      "source": [
        "#@title Install Pyspark\n",
        "!pip install --quiet pyspark"
      ],
      "metadata": {
        "id": "BuFS4wO2B1vr"
      },
      "execution_count": 5,
      "outputs": []
    },
    {
      "cell_type": "markdown",
      "source": [
        "##1. Sorted Word Frequency\n",
        "\n",
        "Create a [Spark](https://spark.apache.org/docs/latest/api/python/) program that counts the number of occurrences of each word in \"Os Maias\" novel, sorting them by frequency (the words with higher occurrence first). \n",
        "\n",
        "Note that the sorting should be performed as a transformation (i.e. it should produce an RDD)..."
      ],
      "metadata": {
        "id": "f7oXYnylGyko"
      }
    },
    {
      "cell_type": "code",
      "source": [
        "#@title Download \"Os Maias\"\n",
        "!wget -q -O os_maias.txt https://www.dropbox.com/s/n24v0z7y79np319/os_maias.txt?dl=0"
      ],
      "metadata": {
        "id": "GEn0_HxQHDlx"
      },
      "execution_count": 6,
      "outputs": []
    },
    {
      "cell_type": "code",
      "source": [
        "import pyspark\n",
        "\n",
        "sc = pyspark.SparkContext('local[*]')\n",
        "try:\n",
        "  lines = sc.textFile('os_maias.txt')\n",
        "\n",
        "  for line in lines.take(10):\n",
        "    print(line)\n",
        "\n",
        "  sc.stop()\n",
        "except Exception as e: \n",
        "  print(e)\n",
        "  sc.stop()"
      ],
      "metadata": {
        "id": "qMFaHhpWHxkB",
        "outputId": "38e1e731-2a8d-40b5-8cbb-c9baf394202c",
        "colab": {
          "base_uri": "https://localhost:8080/"
        }
      },
      "execution_count": 7,
      "outputs": [
        {
          "output_type": "stream",
          "name": "stdout",
          "text": [
            "Os Maias\n",
            "Eça de Queirós\n",
            "\n",
            "\n",
            "\n",
            "Capítulo I\n",
            "A casa que os Maias vieram habitar em Lisboa, no outono de 1875, era conhecida na vizinhança da rua de S. Francisco de Paula, e em todo o bairro das Janelas Verdes, pela casa do Ramalhete ou simplesmente o Ramalhete. Apesar deste fresco nome de vivenda campestre, o Ramalhete, sombrio casarão de paredes severas, com um renque de estreitas varandas de ferro no primeiro andar, e por cima uma tímida fila de janelinhas abrigadas à beira do telhado, tinha o aspecto tristonho de Residência Eclesiástica que competia a uma edificação do reinado da Sr.ª D. Maria I: com uma sineta e com uma cruz no topo assimilar-se-ia a um Colégio de Jesuítas. O nome de Ramalhete provinha de certo dum revestimento quadrado de azulejos fazendo painel no lugar heráldico do Escudo de Armas, que nunca chegara a ser colocado, e representando um grande ramo de girassóis atado por uma fita onde se distinguiam letras e números duma data.\n",
            "Longos anos o Ramalhete permanecera desabitado, com teias de aranha pelas grades dos postigos térreos, e cobrindo-se de tons de ruína. Em 1858 Monsenhor Bucarini, Núncio de S. Santidade, visitara-o com ideia de instalar lá a Nunciatura, seduzido pela gravidade clerical do edifício e pela paz dormente do bairro: e o interior do casarão agradara-lhe também, com a sua disposição apalaçada, os tectos apainelados, as paredes cobertas de frescos onde já desmaiavam as rosas das grinaldas e as faces dos Cupidinhos. Mas Monsenhor, com os seus hábitos de rico prelado romano, necessitava na sua vivenda os arvoredos e as águas dum jardim de luxo: e o Ramalhete possuía apenas, ao fundo dum terraço de tijolo, um pobre quintal inculto, abandonado ás ervas bravas, com um cipreste, um cedro, uma cascatasinha seca, um tanque entulhado, e uma estátua de mármore (onde Monsenhor reconheceu logo Vénus Citereia) enegrecendo a um canto na lenta humidade das ramagens silvestres. Além disso, a renda que pediu o velho Vilaça, procurador dos Maias, pareceu tão exagerada a Monsenhor, que lhe perguntou sorrindo se ainda julgava a Igreja nos tempos de Leão X. Vilaça respondeu - que também a nobreza não estava nos tempos do Sr. D. João V. E o Ramalhete, continuou desabitado.\n",
            "Este inútil pardieiro (como lhe chamava Vilaça Junior, agora por morte de seu pai administrador dos Maias) só veio a servir, nos fins de 1870, para lá se arrecadarem as mobílias e as louças provenientes do palacete de família em Benfica, morada quasi histórica, que, depois de andar anos em praça, fora então comprada por um comendador brasileiro. Nessa ocasião vendera-se outra propriedade dos Maias, a Tojeira; e algumas raras pessoas que em Lisboa ainda se lembravam dos Maias, e sabiam que desde a Regeneração eles viviam retirados na sua quinta de Santa Olavia, nas margens do Douro, tinham perguntado a Vilaça se essa gente estava atrapalhada.\n",
            "- Ainda têm um pedaço de pão, disse Vilaça sorrindo, e a manteiga para lhe barrar por cima.\n"
          ]
        }
      ]
    },
    {
      "cell_type": "markdown",
      "source": [
        "##2. Weblog Analysis\n",
        "\n",
        "Consider a set of log files captured during a DDOS (*Distributed Denial of Service*) attack, containing information for the web accesses performed during the attack to the server.\n",
        "\n",
        "The log files contain text lines as shown below, with TAB as the separator:\n",
        "\n",
        "date |IP_source | status_code | operation | URL | execution time |\n",
        "-|-|-|-|-|-\n",
        "timestamp  | string | int | string | string| float |\n",
        "2016-12-06T08:58:35.318+0000|37.139.9.11|404|GET|/codemove/TTCENCUFMH3C|0.026"
      ],
      "metadata": {
        "id": "rsJZWYlHZDJL"
      }
    },
    {
      "cell_type": "code",
      "source": [
        "#@title Download the dataset\n",
        "!wget -q -O web.log https://www.dropbox.com/s/0r8902uj9yum7dg/web.log?dl=0\n",
        "!wc web.log"
      ],
      "metadata": {
        "id": "WCWKj68qCOdA"
      },
      "execution_count": null,
      "outputs": []
    },
    {
      "cell_type": "markdown",
      "source": [
        "1) Count the number of unique IP addresses involved in the DDOS attack.\n"
      ],
      "metadata": {
        "id": "N1-ojIAqCftf"
      }
    },
    {
      "cell_type": "code",
      "source": [
        "import pyspark\n",
        "\n",
        "sc = pyspark.SparkContext('local[*]')\n",
        "try:\n",
        "  lines = sc.textFile('web.log')\n",
        "\n",
        "  for line in lines.take(10):\n",
        "    print(line)\n",
        "\n",
        "  sc.stop()\n",
        "except Exception as e: \n",
        "  print(e)\n",
        "  sc.stop()"
      ],
      "metadata": {
        "id": "Y7XoyNETChb-"
      },
      "execution_count": null,
      "outputs": []
    },
    {
      "cell_type": "markdown",
      "source": [
        "2) For each interval of 10 seconds, provide the following information: [number of requests, average execution time, maximum time, minimum time]"
      ],
      "metadata": {
        "id": "ZJ5TzPdACgQ-"
      }
    },
    {
      "cell_type": "code",
      "source": [
        "import pyspark\n",
        "\n",
        "sc = pyspark.SparkContext('local[*]')\n",
        "try:\n",
        "  lines = sc.textFile('web.log')\n",
        "\n",
        "  for line in lines.take(10):\n",
        "    print(line)\n",
        "\n",
        "  sc.stop()\n",
        "except Exception as e: \n",
        "  print(e)\n",
        "  sc.stop()"
      ],
      "metadata": {
        "id": "M8UVCwcdCwTG"
      },
      "execution_count": null,
      "outputs": []
    },
    {
      "cell_type": "markdown",
      "source": [
        "3) Create an inverted index that, for each interval of 10 seconds, has a list of (unique) IPs executing accesses (to each URL)."
      ],
      "metadata": {
        "id": "jUHmctaICgtV"
      }
    },
    {
      "cell_type": "code",
      "source": [
        "import pyspark\n",
        "\n",
        "sc = pyspark.SparkContext('local[*]')\n",
        "try:\n",
        "  lines = sc.textFile('web.log')\n",
        "\n",
        "  for line in lines.take(10):\n",
        "    print(line)\n",
        "\n",
        "  sc.stop()\n",
        "except Exception as e: \n",
        "  print(e)\n",
        "  sc.stop()"
      ],
      "metadata": {
        "id": "RpXghha0C0jC"
      },
      "execution_count": null,
      "outputs": []
    }
  ],
  "metadata": {
    "kernelspec": {
      "display_name": "Python 3",
      "language": "python",
      "name": "python3"
    },
    "language_info": {
      "codemirror_mode": {
        "name": "ipython",
        "version": 3
      },
      "file_extension": ".py",
      "mimetype": "text/x-python",
      "name": "python",
      "nbconvert_exporter": "python",
      "pygments_lexer": "ipython3",
      "version": "3.7.3"
    },
    "colab": {
      "provenance": [],
      "collapsed_sections": [],
      "include_colab_link": true
    }
  },
  "nbformat": 4,
  "nbformat_minor": 0
}