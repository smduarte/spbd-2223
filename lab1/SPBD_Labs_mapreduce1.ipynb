{
  "cells": [
    {
      "cell_type": "markdown",
      "metadata": {
        "id": "cKGXsDUIDxH6"
      },
      "source": [
        "# Python MapReduce Example\n",
        "\n",
        "Word count implemented in pure Python.\n",
        "\n",
        "This notebook exemplifies the execution of a map-reduce program in Python, using Hadoop.\n",
        "In this example, hadoop runs in standalone mode and reads data from the local filesystem, while in cluster mode data is read typically from HDFS dsitributed file system.\n"
      ]
    },
    {
      "cell_type": "markdown",
      "metadata": {
        "id": "qBR4IYlXDxH9"
      },
      "source": [
        "### Download the dataset "
      ]
    },
    {
      "cell_type": "code",
      "execution_count": null,
      "metadata": {
        "scrolled": false,
        "id": "B68ZyGdPDxH9"
      },
      "outputs": [],
      "source": [
        "!wget -q -O os_maias.txt https://www.dropbox.com/s/n24v0z7y79np319/os_maias.txt?dl=0"
      ]
    },
    {
      "cell_type": "markdown",
      "metadata": {
        "id": "n8sllMoIDxH_"
      },
      "source": [
        "## WordCount Example\n",
        "Read the words from input and count them.\n",
        "\n",
        "The processing is split into two steps:\n",
        "\n",
        "+ The mapper emits for each line the number of words\n",
        "+ The reduces sums all the tuples produced by the mapper stage..."
      ]
    },
    {
      "cell_type": "markdown",
      "metadata": {
        "id": "DQd9aMLeDxH_"
      },
      "source": [
        "### Mapper\n",
        "\n",
        "By starting an element with \"%%file\", you are specifying that when run, the contents are written to the local disk."
      ]
    },
    {
      "cell_type": "code",
      "execution_count": null,
      "metadata": {
        "colab": {
          "base_uri": "https://localhost:8080/"
        },
        "id": "LbItx5zwDxIA",
        "outputId": "0e94f140-7969-4e95-a5fc-952a0ac99c23"
      },
      "outputs": [
        {
          "output_type": "stream",
          "name": "stdout",
          "text": [
            "Writing mapper.py\n"
          ]
        }
      ],
      "source": [
        "%%file mapper.py\n",
        "#!/usr/bin/env python\n",
        "\n",
        "# import sys\n",
        "import sys\n",
        "# import string library function  \n",
        "import string  \n",
        "\n",
        "# input comes from STDIN (standard input)\n",
        "for line in sys.stdin:\n",
        "    # remove leading and trailing whitespace\n",
        "    line = line.strip()\n",
        "    # remove punctuation characters\n",
        "    line = line.translate(str.maketrans('', '', string.punctuation+'«»'))\n",
        "    # split the line into words\n",
        "    words = line.split()\n",
        "    print('words\\t%s' % len(words))"
      ]
    },
    {
      "cell_type": "markdown",
      "metadata": {
        "id": "4f1-nQlcDxIA"
      },
      "source": [
        "### Reducer"
      ]
    },
    {
      "cell_type": "code",
      "execution_count": null,
      "metadata": {
        "colab": {
          "base_uri": "https://localhost:8080/"
        },
        "id": "qCDCm5cnDxIB",
        "outputId": "2fbb88b7-febe-44af-d769-e8f332e935be"
      },
      "outputs": [
        {
          "output_type": "stream",
          "name": "stdout",
          "text": [
            "Writing reducer.py\n"
          ]
        }
      ],
      "source": [
        "%%file reducer.py\n",
        "#!/usr/bin/env python\n",
        "\n",
        "import sys\n",
        "\n",
        "total_count = 0\n",
        "\n",
        "# input comes from STDIN\n",
        "for line in sys.stdin:\n",
        "    # remove leading and trailing whitespace\n",
        "    line = line.strip()\n",
        "\n",
        "    # parse the input we got from mapper.py\n",
        "    key, count = line.split('\\t', 1)\n",
        "\n",
        "    # convert count (currently a string) to int\n",
        "    count = int(count)\n",
        "\n",
        "    total_count += count\n",
        "\n",
        "print('words\\t%s' % (total_count))"
      ]
    },
    {
      "cell_type": "markdown",
      "metadata": {
        "id": "stOA47uRDxIC"
      },
      "source": [
        "## Local execution\n",
        "\n",
        "The scripts can be tested using just the unix shell, as follows..."
      ]
    },
    {
      "cell_type": "markdown",
      "metadata": {
        "id": "cORkS8pvDxIC"
      },
      "source": [
        "### Make the scripts executable"
      ]
    },
    {
      "cell_type": "code",
      "execution_count": null,
      "metadata": {
        "id": "NuBS8D79DxID"
      },
      "outputs": [],
      "source": [
        "!chmod a+x mapper.py && chmod a+x reducer.py"
      ]
    },
    {
      "cell_type": "markdown",
      "metadata": {
        "id": "3dZTi7eIDxID"
      },
      "source": [
        "### Execute\n",
        "\n",
        "The execution workflow is as follows:\n",
        "\n",
        "+ The input file is piped into the input of the mapper;\n",
        "+ The output the mapper is sorted;\n",
        "+ The sorted output of the mapper is fed to the reducer stage."
      ]
    },
    {
      "cell_type": "code",
      "execution_count": null,
      "metadata": {
        "colab": {
          "base_uri": "https://localhost:8080/"
        },
        "id": "PwZMaB-hDxIE",
        "outputId": "6d056617-206a-48ec-af5d-3a0e26f61b7d"
      },
      "outputs": [
        {
          "output_type": "stream",
          "name": "stdout",
          "text": [
            "words\t213359\n"
          ]
        }
      ],
      "source": [
        "!cat \"os_maias.txt\" | ./mapper.py | sort -k1,1 | ./reducer.py"
      ]
    },
    {
      "cell_type": "markdown",
      "source": [
        "## MapReduce with HADOOP"
      ],
      "metadata": {
        "id": "rwuFmaseENu0"
      }
    },
    {
      "cell_type": "markdown",
      "source": [
        "## Install Hadoop on Google Colab\n"
      ],
      "metadata": {
        "id": "AwrEpGwRE5Tq"
      }
    },
    {
      "cell_type": "code",
      "source": [
        "%%bash\n",
        "HADOOP=hadoop-3.3.4\n",
        "wget -q https://downloads.apache.org/hadoop/common/$HADOOP/$HADOOP.tar.gz\n",
        "tar -xzf $HADOOP.tar.gz\n",
        "mv $HADOOP/ /usr/local/\n",
        "echo \"export JAVA_HOME=\"`readlink -f /usr/bin/java | sed \"s:bin/java::\"` >> /usr/local/$HADOOP/etc/hadoop/hadoop-env.sh\n",
        "\n",
        "echo \"#!/bin/bash\" > /usr/local/bin/hadoop\n",
        "echo \"exec /usr/local/$HADOOP/bin/hadoop \\$*\" >> /usr/local/bin/hadoop\n",
        "chmod a+x /usr/local/bin/hadoop"
      ],
      "metadata": {
        "id": "zsb4oRpDE75G"
      },
      "execution_count": null,
      "outputs": []
    },
    {
      "cell_type": "markdown",
      "metadata": {
        "id": "EC2bKZHtDxIE"
      },
      "source": [
        "## Hadoop standalone mode execution\n",
        "\n",
        "For executing in an hadoop cluster, input data should be moved into an HDFS directory. For executing in standalone mode, data can be read from the local filesystem. "
      ]
    },
    {
      "cell_type": "markdown",
      "metadata": {
        "id": "7Z1JJmqvDxIE"
      },
      "source": [
        "\n",
        "The output directory needs to be cleared..."
      ]
    },
    {
      "cell_type": "code",
      "execution_count": null,
      "metadata": {
        "id": "RCwnGGz7DxIF"
      },
      "outputs": [],
      "source": [
        "rm -rf results"
      ]
    },
    {
      "cell_type": "markdown",
      "metadata": {
        "id": "8xf3e1UGDxIF"
      },
      "source": [
        "### Submitting the job\n",
        "\n",
        "The _hadoop_ command is used to submit the mapreduce job to the cluster..."
      ]
    },
    {
      "cell_type": "code",
      "execution_count": null,
      "metadata": {
        "colab": {
          "base_uri": "https://localhost:8080/"
        },
        "id": "sTxBwSF8DxIG",
        "outputId": "4d26c7d2-ed0d-4f85-ef61-67e6c4393076"
      },
      "outputs": [
        {
          "output_type": "stream",
          "name": "stdout",
          "text": [
            "2022-09-19 23:33:17,222 INFO impl.MetricsConfig: Loaded properties from hadoop-metrics2.properties\n",
            "2022-09-19 23:33:17,477 INFO impl.MetricsSystemImpl: Scheduled Metric snapshot period at 10 second(s).\n",
            "2022-09-19 23:33:17,477 INFO impl.MetricsSystemImpl: JobTracker metrics system started\n",
            "2022-09-19 23:33:17,506 WARN impl.MetricsSystemImpl: JobTracker metrics system already initialized!\n",
            "2022-09-19 23:33:17,836 INFO mapred.FileInputFormat: Total input files to process : 1\n",
            "2022-09-19 23:33:17,861 INFO mapreduce.JobSubmitter: number of splits:1\n",
            "2022-09-19 23:33:18,327 INFO mapreduce.JobSubmitter: Submitting tokens for job: job_local698779115_0001\n",
            "2022-09-19 23:33:18,327 INFO mapreduce.JobSubmitter: Executing with tokens: []\n",
            "2022-09-19 23:33:18,811 INFO mapred.LocalDistributedCacheManager: Localized file:/content/mapper.py as file:/tmp/hadoop-root/mapred/local/job_local698779115_0001_12e661d6-6c4b-4ae9-9d21-d3cbd888cb0d/mapper.py\n",
            "2022-09-19 23:33:18,846 INFO mapred.LocalDistributedCacheManager: Localized file:/content/reducer.py as file:/tmp/hadoop-root/mapred/local/job_local698779115_0001_ce75b934-5856-473e-9a66-bd18011968f0/reducer.py\n",
            "2022-09-19 23:33:18,973 INFO mapreduce.Job: The url to track the job: http://localhost:8080/\n",
            "2022-09-19 23:33:18,976 INFO mapreduce.Job: Running job: job_local698779115_0001\n",
            "2022-09-19 23:33:18,982 INFO mapred.LocalJobRunner: OutputCommitter set in config null\n",
            "2022-09-19 23:33:18,985 INFO mapred.LocalJobRunner: OutputCommitter is org.apache.hadoop.mapred.FileOutputCommitter\n",
            "2022-09-19 23:33:18,993 INFO output.FileOutputCommitter: File Output Committer Algorithm version is 2\n",
            "2022-09-19 23:33:18,994 INFO output.FileOutputCommitter: FileOutputCommitter skip cleanup _temporary folders under output directory:false, ignore cleanup failures: false\n",
            "2022-09-19 23:33:19,069 INFO mapred.LocalJobRunner: Waiting for map tasks\n",
            "2022-09-19 23:33:19,074 INFO mapred.LocalJobRunner: Starting task: attempt_local698779115_0001_m_000000_0\n",
            "2022-09-19 23:33:19,122 INFO output.FileOutputCommitter: File Output Committer Algorithm version is 2\n",
            "2022-09-19 23:33:19,123 INFO output.FileOutputCommitter: FileOutputCommitter skip cleanup _temporary folders under output directory:false, ignore cleanup failures: false\n",
            "2022-09-19 23:33:19,156 INFO mapred.Task:  Using ResourceCalculatorProcessTree : [ ]\n",
            "2022-09-19 23:33:19,166 INFO mapred.MapTask: Processing split: file:/content/os_maias.txt:0+1292368\n",
            "2022-09-19 23:33:19,189 INFO mapred.MapTask: numReduceTasks: 1\n",
            "2022-09-19 23:33:19,284 INFO mapred.MapTask: (EQUATOR) 0 kvi 26214396(104857584)\n",
            "2022-09-19 23:33:19,290 INFO mapred.MapTask: mapreduce.task.io.sort.mb: 100\n",
            "2022-09-19 23:33:19,290 INFO mapred.MapTask: soft limit at 83886080\n",
            "2022-09-19 23:33:19,290 INFO mapred.MapTask: bufstart = 0; bufvoid = 104857600\n",
            "2022-09-19 23:33:19,290 INFO mapred.MapTask: kvstart = 26214396; length = 6553600\n",
            "2022-09-19 23:33:19,301 INFO mapred.MapTask: Map output collector class = org.apache.hadoop.mapred.MapTask$MapOutputBuffer\n",
            "2022-09-19 23:33:19,318 INFO streaming.PipeMapRed: PipeMapRed exec [/content/./mapper.py]\n",
            "2022-09-19 23:33:19,328 INFO Configuration.deprecation: mapred.work.output.dir is deprecated. Instead, use mapreduce.task.output.dir\n",
            "2022-09-19 23:33:19,329 INFO Configuration.deprecation: mapred.local.dir is deprecated. Instead, use mapreduce.cluster.local.dir\n",
            "2022-09-19 23:33:19,329 INFO Configuration.deprecation: map.input.file is deprecated. Instead, use mapreduce.map.input.file\n",
            "2022-09-19 23:33:19,330 INFO Configuration.deprecation: map.input.length is deprecated. Instead, use mapreduce.map.input.length\n",
            "2022-09-19 23:33:19,330 INFO Configuration.deprecation: mapred.job.id is deprecated. Instead, use mapreduce.job.id\n",
            "2022-09-19 23:33:19,331 INFO Configuration.deprecation: mapred.task.partition is deprecated. Instead, use mapreduce.task.partition\n",
            "2022-09-19 23:33:19,333 INFO Configuration.deprecation: map.input.start is deprecated. Instead, use mapreduce.map.input.start\n",
            "2022-09-19 23:33:19,333 INFO Configuration.deprecation: mapred.task.is.map is deprecated. Instead, use mapreduce.task.ismap\n",
            "2022-09-19 23:33:19,333 INFO Configuration.deprecation: mapred.task.id is deprecated. Instead, use mapreduce.task.attempt.id\n",
            "2022-09-19 23:33:19,334 INFO Configuration.deprecation: mapred.tip.id is deprecated. Instead, use mapreduce.task.id\n",
            "2022-09-19 23:33:19,334 INFO Configuration.deprecation: mapred.skip.on is deprecated. Instead, use mapreduce.job.skiprecords\n",
            "2022-09-19 23:33:19,335 INFO Configuration.deprecation: user.name is deprecated. Instead, use mapreduce.job.user.name\n",
            "2022-09-19 23:33:19,376 INFO streaming.PipeMapRed: R/W/S=1/0/0 in:NA [rec/s] out:NA [rec/s]\n",
            "2022-09-19 23:33:19,377 INFO streaming.PipeMapRed: R/W/S=10/0/0 in:NA [rec/s] out:NA [rec/s]\n",
            "2022-09-19 23:33:19,382 INFO streaming.PipeMapRed: R/W/S=100/0/0 in:NA [rec/s] out:NA [rec/s]\n",
            "2022-09-19 23:33:19,514 INFO streaming.PipeMapRed: R/W/S=1000/0/0 in:NA [rec/s] out:NA [rec/s]\n",
            "2022-09-19 23:33:19,552 INFO streaming.PipeMapRed: Records R/W=1749/1\n",
            "2022-09-19 23:33:19,778 INFO streaming.PipeMapRed: MRErrorThread done\n",
            "2022-09-19 23:33:19,779 INFO streaming.PipeMapRed: mapRedFinished\n",
            "2022-09-19 23:33:19,790 INFO mapred.LocalJobRunner: \n",
            "2022-09-19 23:33:19,790 INFO mapred.MapTask: Starting flush of map output\n",
            "2022-09-19 23:33:19,790 INFO mapred.MapTask: Spilling map output\n",
            "2022-09-19 23:33:19,790 INFO mapred.MapTask: bufstart = 0; bufend = 51885; bufvoid = 104857600\n",
            "2022-09-19 23:33:19,790 INFO mapred.MapTask: kvstart = 26214396(104857584); kvend = 26190892(104763568); length = 23505/6553600\n",
            "2022-09-19 23:33:19,831 INFO mapred.MapTask: Finished spill 0\n",
            "2022-09-19 23:33:19,851 INFO mapred.Task: Task:attempt_local698779115_0001_m_000000_0 is done. And is in the process of committing\n",
            "2022-09-19 23:33:19,857 INFO mapred.LocalJobRunner: Records R/W=1749/1\n",
            "2022-09-19 23:33:19,857 INFO mapred.Task: Task 'attempt_local698779115_0001_m_000000_0' done.\n",
            "2022-09-19 23:33:19,871 INFO mapred.Task: Final Counters for attempt_local698779115_0001_m_000000_0: Counters: 17\n",
            "\tFile System Counters\n",
            "\t\tFILE: Number of bytes read=1434568\n",
            "\t\tFILE: Number of bytes written=846336\n",
            "\t\tFILE: Number of read operations=0\n",
            "\t\tFILE: Number of large read operations=0\n",
            "\t\tFILE: Number of write operations=0\n",
            "\tMap-Reduce Framework\n",
            "\t\tMap input records=5877\n",
            "\t\tMap output records=5877\n",
            "\t\tMap output bytes=51885\n",
            "\t\tMap output materialized bytes=63645\n",
            "\t\tInput split bytes=78\n",
            "\t\tCombine input records=0\n",
            "\t\tSpilled Records=5877\n",
            "\t\tFailed Shuffles=0\n",
            "\t\tMerged Map outputs=0\n",
            "\t\tGC time elapsed (ms)=35\n",
            "\t\tTotal committed heap usage (bytes)=378535936\n",
            "\tFile Input Format Counters \n",
            "\t\tBytes Read=1292368\n",
            "2022-09-19 23:33:19,871 INFO mapred.LocalJobRunner: Finishing task: attempt_local698779115_0001_m_000000_0\n",
            "2022-09-19 23:33:19,871 INFO mapred.LocalJobRunner: map task executor complete.\n",
            "2022-09-19 23:33:19,878 INFO mapred.LocalJobRunner: Waiting for reduce tasks\n",
            "2022-09-19 23:33:19,881 INFO mapred.LocalJobRunner: Starting task: attempt_local698779115_0001_r_000000_0\n",
            "2022-09-19 23:33:19,895 INFO output.FileOutputCommitter: File Output Committer Algorithm version is 2\n",
            "2022-09-19 23:33:19,895 INFO output.FileOutputCommitter: FileOutputCommitter skip cleanup _temporary folders under output directory:false, ignore cleanup failures: false\n",
            "2022-09-19 23:33:19,896 INFO mapred.Task:  Using ResourceCalculatorProcessTree : [ ]\n",
            "2022-09-19 23:33:19,903 INFO mapred.ReduceTask: Using ShuffleConsumerPlugin: org.apache.hadoop.mapreduce.task.reduce.Shuffle@12238fdf\n",
            "2022-09-19 23:33:19,906 WARN impl.MetricsSystemImpl: JobTracker metrics system already initialized!\n",
            "2022-09-19 23:33:19,942 INFO reduce.MergeManagerImpl: MergerManager: memoryLimit=2384042240, maxSingleShuffleLimit=596010560, mergeThreshold=1573467904, ioSortFactor=10, memToMemMergeOutputsThreshold=10\n",
            "2022-09-19 23:33:19,955 INFO reduce.EventFetcher: attempt_local698779115_0001_r_000000_0 Thread started: EventFetcher for fetching Map Completion Events\n",
            "2022-09-19 23:33:19,984 INFO mapreduce.Job: Job job_local698779115_0001 running in uber mode : false\n",
            "2022-09-19 23:33:19,988 INFO mapreduce.Job:  map 100% reduce 0%\n",
            "2022-09-19 23:33:20,021 INFO reduce.LocalFetcher: localfetcher#1 about to shuffle output of map attempt_local698779115_0001_m_000000_0 decomp: 63641 len: 63645 to MEMORY\n",
            "2022-09-19 23:33:20,035 INFO reduce.InMemoryMapOutput: Read 63641 bytes from map-output for attempt_local698779115_0001_m_000000_0\n",
            "2022-09-19 23:33:20,052 INFO reduce.MergeManagerImpl: closeInMemoryFile -> map-output of size: 63641, inMemoryMapOutputs.size() -> 1, commitMemory -> 0, usedMemory ->63641\n",
            "2022-09-19 23:33:20,055 INFO reduce.EventFetcher: EventFetcher is interrupted.. Returning\n",
            "2022-09-19 23:33:20,057 INFO mapred.LocalJobRunner: 1 / 1 copied.\n",
            "2022-09-19 23:33:20,057 INFO reduce.MergeManagerImpl: finalMerge called with 1 in-memory map-outputs and 0 on-disk map-outputs\n",
            "2022-09-19 23:33:20,069 INFO mapred.Merger: Merging 1 sorted segments\n",
            "2022-09-19 23:33:20,069 INFO mapred.Merger: Down to the last merge-pass, with 1 segments left of total size: 63633 bytes\n",
            "2022-09-19 23:33:20,088 INFO reduce.MergeManagerImpl: Merged 1 segments, 63641 bytes to disk to satisfy reduce memory limit\n",
            "2022-09-19 23:33:20,089 INFO reduce.MergeManagerImpl: Merging 1 files, 63645 bytes from disk\n",
            "2022-09-19 23:33:20,091 INFO reduce.MergeManagerImpl: Merging 0 segments, 0 bytes from memory into reduce\n",
            "2022-09-19 23:33:20,091 INFO mapred.Merger: Merging 1 sorted segments\n",
            "2022-09-19 23:33:20,092 INFO mapred.Merger: Down to the last merge-pass, with 1 segments left of total size: 63633 bytes\n",
            "2022-09-19 23:33:20,093 INFO mapred.LocalJobRunner: 1 / 1 copied.\n",
            "2022-09-19 23:33:20,113 INFO streaming.PipeMapRed: PipeMapRed exec [/content/./reducer.py]\n",
            "2022-09-19 23:33:20,118 INFO Configuration.deprecation: mapred.job.tracker is deprecated. Instead, use mapreduce.jobtracker.address\n",
            "2022-09-19 23:33:20,121 INFO Configuration.deprecation: mapred.map.tasks is deprecated. Instead, use mapreduce.job.maps\n",
            "2022-09-19 23:33:20,169 INFO streaming.PipeMapRed: R/W/S=1/0/0 in:NA [rec/s] out:NA [rec/s]\n",
            "2022-09-19 23:33:20,169 INFO streaming.PipeMapRed: R/W/S=10/0/0 in:NA [rec/s] out:NA [rec/s]\n",
            "2022-09-19 23:33:20,171 INFO streaming.PipeMapRed: R/W/S=100/0/0 in:NA [rec/s] out:NA [rec/s]\n",
            "2022-09-19 23:33:20,182 INFO streaming.PipeMapRed: R/W/S=1000/0/0 in:NA [rec/s] out:NA [rec/s]\n",
            "2022-09-19 23:33:20,349 INFO streaming.PipeMapRed: Records R/W=5877/1\n",
            "2022-09-19 23:33:20,354 INFO streaming.PipeMapRed: MRErrorThread done\n",
            "2022-09-19 23:33:20,355 INFO streaming.PipeMapRed: mapRedFinished\n",
            "2022-09-19 23:33:20,356 INFO mapred.Task: Task:attempt_local698779115_0001_r_000000_0 is done. And is in the process of committing\n",
            "2022-09-19 23:33:20,358 INFO mapred.LocalJobRunner: 1 / 1 copied.\n",
            "2022-09-19 23:33:20,359 INFO mapred.Task: Task attempt_local698779115_0001_r_000000_0 is allowed to commit now\n",
            "2022-09-19 23:33:20,362 INFO output.FileOutputCommitter: Saved output of task 'attempt_local698779115_0001_r_000000_0' to file:/content/results\n",
            "2022-09-19 23:33:20,363 INFO mapred.LocalJobRunner: Records R/W=5877/1 > reduce\n",
            "2022-09-19 23:33:20,364 INFO mapred.Task: Task 'attempt_local698779115_0001_r_000000_0' done.\n",
            "2022-09-19 23:33:20,365 INFO mapred.Task: Final Counters for attempt_local698779115_0001_r_000000_0: Counters: 24\n",
            "\tFile System Counters\n",
            "\t\tFILE: Number of bytes read=1561890\n",
            "\t\tFILE: Number of bytes written=910006\n",
            "\t\tFILE: Number of read operations=0\n",
            "\t\tFILE: Number of large read operations=0\n",
            "\t\tFILE: Number of write operations=0\n",
            "\tMap-Reduce Framework\n",
            "\t\tCombine input records=0\n",
            "\t\tCombine output records=0\n",
            "\t\tReduce input groups=1\n",
            "\t\tReduce shuffle bytes=63645\n",
            "\t\tReduce input records=5877\n",
            "\t\tReduce output records=1\n",
            "\t\tSpilled Records=5877\n",
            "\t\tShuffled Maps =1\n",
            "\t\tFailed Shuffles=0\n",
            "\t\tMerged Map outputs=1\n",
            "\t\tGC time elapsed (ms)=0\n",
            "\t\tTotal committed heap usage (bytes)=378535936\n",
            "\tShuffle Errors\n",
            "\t\tBAD_ID=0\n",
            "\t\tCONNECTION=0\n",
            "\t\tIO_ERROR=0\n",
            "\t\tWRONG_LENGTH=0\n",
            "\t\tWRONG_MAP=0\n",
            "\t\tWRONG_REDUCE=0\n",
            "\tFile Output Format Counters \n",
            "\t\tBytes Written=25\n",
            "2022-09-19 23:33:20,365 INFO mapred.LocalJobRunner: Finishing task: attempt_local698779115_0001_r_000000_0\n",
            "2022-09-19 23:33:20,365 INFO mapred.LocalJobRunner: reduce task executor complete.\n",
            "2022-09-19 23:33:20,990 INFO mapreduce.Job:  map 100% reduce 100%\n",
            "2022-09-19 23:33:20,991 INFO mapreduce.Job: Job job_local698779115_0001 completed successfully\n",
            "2022-09-19 23:33:21,004 INFO mapreduce.Job: Counters: 30\n",
            "\tFile System Counters\n",
            "\t\tFILE: Number of bytes read=2996458\n",
            "\t\tFILE: Number of bytes written=1756342\n",
            "\t\tFILE: Number of read operations=0\n",
            "\t\tFILE: Number of large read operations=0\n",
            "\t\tFILE: Number of write operations=0\n",
            "\tMap-Reduce Framework\n",
            "\t\tMap input records=5877\n",
            "\t\tMap output records=5877\n",
            "\t\tMap output bytes=51885\n",
            "\t\tMap output materialized bytes=63645\n",
            "\t\tInput split bytes=78\n",
            "\t\tCombine input records=0\n",
            "\t\tCombine output records=0\n",
            "\t\tReduce input groups=1\n",
            "\t\tReduce shuffle bytes=63645\n",
            "\t\tReduce input records=5877\n",
            "\t\tReduce output records=1\n",
            "\t\tSpilled Records=11754\n",
            "\t\tShuffled Maps =1\n",
            "\t\tFailed Shuffles=0\n",
            "\t\tMerged Map outputs=1\n",
            "\t\tGC time elapsed (ms)=35\n",
            "\t\tTotal committed heap usage (bytes)=757071872\n",
            "\tShuffle Errors\n",
            "\t\tBAD_ID=0\n",
            "\t\tCONNECTION=0\n",
            "\t\tIO_ERROR=0\n",
            "\t\tWRONG_LENGTH=0\n",
            "\t\tWRONG_MAP=0\n",
            "\t\tWRONG_REDUCE=0\n",
            "\tFile Input Format Counters \n",
            "\t\tBytes Read=1292368\n",
            "\tFile Output Format Counters \n",
            "\t\tBytes Written=25\n",
            "2022-09-19 23:33:21,004 INFO streaming.StreamJob: Output directory: results\n"
          ]
        }
      ],
      "source": [
        "!hadoop jar /usr/local/hadoop-3.3.4/share/hadoop/tools/lib/hadoop-*streaming*.jar -files mapper.py,reducer.py -mapper mapper.py -reducer reducer.py -input os_maias.txt -output results"
      ]
    },
    {
      "cell_type": "markdown",
      "metadata": {
        "id": "UPzJQj5qDxIG"
      },
      "source": [
        "#### Checking the results\n",
        "The result is stored in directory results."
      ]
    },
    {
      "cell_type": "code",
      "execution_count": null,
      "metadata": {
        "colab": {
          "base_uri": "https://localhost:8080/"
        },
        "id": "0Tow7rp4DxIG",
        "outputId": "4bfd07d6-c21b-4824-cf23-c067feedb715"
      },
      "outputs": [
        {
          "output_type": "stream",
          "name": "stdout",
          "text": [
            "words\t213359\n"
          ]
        }
      ],
      "source": [
        "!cat results/part-*"
      ]
    }
  ],
  "metadata": {
    "kernelspec": {
      "display_name": "Python 3",
      "language": "python",
      "name": "python3"
    },
    "language_info": {
      "codemirror_mode": {
        "name": "ipython",
        "version": 3
      },
      "file_extension": ".py",
      "mimetype": "text/x-python",
      "name": "python",
      "nbconvert_exporter": "python",
      "pygments_lexer": "ipython3",
      "version": "3.7.3"
    },
    "colab": {
      "provenance": [],
      "collapsed_sections": []
    }
  },
  "nbformat": 4,
  "nbformat_minor": 0
}