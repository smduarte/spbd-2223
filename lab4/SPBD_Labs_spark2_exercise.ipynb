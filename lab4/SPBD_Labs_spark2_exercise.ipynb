{
  "cells": [
    {
      "cell_type": "markdown",
      "metadata": {
        "id": "_VT-4dvcOt-K"
      },
      "source": [
        "# Python Spark DataFrames Example\n",
        "\n",
        "Web log example implemented in pure Python.\n",
        "\n",
        "This notebook exemplifies the execution of a Spark program in Python, using the DataFrames interface.\n",
        "In this example, spark runs in standalone mode and reads data from the local filesystem, while in cluster mode data is read typically from HDFS dsitributed file system.\n",
        "\n",
        "Spark documentation available at:\n",
        "https://spark.apache.org/docs/2.3.1/\n"
      ]
    },
    {
      "cell_type": "markdown",
      "metadata": {
        "id": "sivEwhVTOt-M"
      },
      "source": [
        "### Download the dataset \n",
        "\n",
        "Log format: <br>\n",
        "date IP_source return_value operation URL time"
      ]
    },
    {
      "cell_type": "code",
      "execution_count": null,
      "metadata": {
        "scrolled": true,
        "id": "XBcqVov5Ot-N"
      },
      "outputs": [],
      "source": [
        "!wget -O web.log https://www.dropbox.com/s/0r8902uj9yum7dg/web.log?dl=0"
      ]
    },
    {
      "cell_type": "markdown",
      "metadata": {
        "id": "jCYThnF1Ot-O"
      },
      "source": [
        "## List of source IP addresses\n",
        "\n",
        "Read the log from input and compute the intended result.\n"
      ]
    },
    {
      "cell_type": "code",
      "execution_count": null,
      "metadata": {
        "collapsed": true,
        "id": "mQNHJ0GVOt-O"
      },
      "outputs": [],
      "source": []
    },
    {
      "cell_type": "markdown",
      "metadata": {
        "id": "qoQWUl-cOt-P"
      },
      "source": [
        "## Find log entries with a given URL\n",
        "\n",
        "Read the log from input and compute the intended result.\n"
      ]
    },
    {
      "cell_type": "code",
      "execution_count": null,
      "metadata": {
        "collapsed": true,
        "id": "5Ptyl2V-Ot-P"
      },
      "outputs": [],
      "source": []
    },
    {
      "cell_type": "markdown",
      "metadata": {
        "id": "tZ27kzHZOt-Q"
      },
      "source": [
        "## Create inverted index url->ips\n",
        "\n",
        "Read the log from input and compute the intended result.\n"
      ]
    },
    {
      "cell_type": "code",
      "execution_count": null,
      "metadata": {
        "collapsed": true,
        "id": "wfQnr_jgOt-R"
      },
      "outputs": [],
      "source": []
    },
    {
      "cell_type": "markdown",
      "metadata": {
        "id": "nvg_okAnOt-R"
      },
      "source": [
        "## Create inverted index ip->urls\n",
        "\n",
        "Read the log from input and compute the intended result.\n"
      ]
    },
    {
      "cell_type": "code",
      "execution_count": null,
      "metadata": {
        "collapsed": true,
        "id": "Vpmbsu_rOt-S"
      },
      "outputs": [],
      "source": []
    }
  ],
  "metadata": {
    "kernelspec": {
      "display_name": "Python 2",
      "language": "python",
      "name": "python2"
    },
    "language_info": {
      "codemirror_mode": {
        "name": "ipython",
        "version": 3
      },
      "file_extension": ".py",
      "mimetype": "text/x-python",
      "name": "python",
      "nbconvert_exporter": "python",
      "pygments_lexer": "ipython3",
      "version": "3.7.3"
    },
    "colab": {
      "provenance": []
    }
  },
  "nbformat": 4,
  "nbformat_minor": 0
}