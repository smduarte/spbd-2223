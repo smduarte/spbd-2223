{
  "nbformat": 4,
  "nbformat_minor": 0,
  "metadata": {
    "colab": {
      "provenance": [],
      "collapsed_sections": [],
      "include_colab_link": true
    },
    "kernelspec": {
      "name": "python3",
      "display_name": "Python 3"
    },
    "language_info": {
      "name": "python"
    }
  },
  "cells": [
    {
      "cell_type": "markdown",
      "metadata": {
        "id": "view-in-github",
        "colab_type": "text"
      },
      "source": [
        "<a href=\"https://colab.research.google.com/github/smduarte/spbd-2223/blob/main/proj/spbd2122_proj.ipynb\" target=\"_parent\"><img src=\"https://colab.research.google.com/assets/colab-badge.svg\" alt=\"Open In Colab\"/></a>"
      ]
    },
    {
      "cell_type": "markdown",
      "metadata": {
        "id": "KgFZlT_g8O1Y"
      },
      "source": [
        "# SPBD 2022\n",
        "## Air Quality Monitoring (airborne particulate matter)\n",
        "-- version Nov 2 \n",
        " - draft version (incomplete)\n",
        "\n",
        "\n"
      ]
    },
    {
      "cell_type": "markdown",
      "source": [
        "The goal of this project is to analyze data provided by a set of air quality sensors [sds011](https://aqicn.org/sensor/sds011/pt/) belonging\n",
        "to a global sensor network spanning the globe, named [Sensor.Community](https://sensor.community/en/).\n",
        "\n",
        "While the data spans the globe, the sensors present in the dataset to be processed are limited to Portugal, France, Spain and Germany. Each sensor provides two values: measuring particles less than 10 µm (P1) and less than 2.5 µm (P2) in μg/m³.\n",
        "\n",
        "The sensor data is limited to 2020 and is organized in separate CSV files, stored in folders, one for each month and one file per day.\n",
        "\n",
        "\n",
        "Each CSV file has the following schema:\n",
        "\n",
        "sensor_id | sensor_type | latitude | longitude | timestamp | P1 | P2\n",
        "----------|-------------|----------|-----------|-----------|----|---\n",
        "string  | string | float | float| timestamp | float | float\n",
        "\n",
        "The root folder of the dataset can be downloaded from a [Google Drive folder](https://drive.google.com/drive/folders/1rJwbgPGf2ZNJ_nV-5hu2cq75N82mMQ2E?usp=share_link)\n",
        "\n",
        "A secondary dataset in the form of a [JSON](https://www.w3schools.com/python/python_json.asp) is also provided. This data can be used\n",
        "to map a given sensor to is location, namely, the country and city where\n",
        "it resides.\n",
        "\n",
        "The goal of the assignment is to solve the following questions:"
      ],
      "metadata": {
        "id": "IRDJq9dL0GWA"
      }
    },
    {
      "cell_type": "markdown",
      "source": [
        "## Questions\n",
        "\n",
        "### Q1 - Daily and monthly statistics\n",
        "\n",
        "  For each sensor, compute the minimum, average and maximum values of the two sensor metrics. Produce results for each day.\n",
        "\n",
        " **Requirement**: Solve this question using MapReduce (MrJob) and Spark Core.\n",
        "\n",
        "### Q2 - Top 3 Cities\n",
        "\n",
        "  For each country, compute the top 3 cities with best air quality and the top 3 cities with poorest air quality, updated weekly, i.e., averaged over a week (7 days).\n",
        "\n",
        " **Requirement**: Solve this question using Spark Core, Spark Dataframes and Spark SQL.\n",
        "\n",
        "### Q3 - Lockdown detection\n",
        "\n",
        "The full dataset covers periods of population confinements due to Covid 19. Can you find a statistical signal in the data showing air quality improvement coinciding with confinement periods in the countries covered by the data?\n",
        "\n",
        "**Requeriment**: For this question, use a single framework of your choice, of those studied.\n",
        "\n",
        "### Q4 - Sensor coverage\n",
        "Compute the set of (disjoint) connected components (areas) defined over a grid of 2 Km x 2  Km cells. \n",
        "\n",
        "A grid cell is occupied, if there is at least one sensor whose coordinates fall in the given grid. Two grid cells belong to the same component (area), if the they are neighbours (horizontally or vertically). \n",
        "\n",
        "For simplicity, assume that .008983112 latitude degrees correspond to 1Km (North/South), and .011972 longitude degrees to 1KM(East/West).\n",
        "\n",
        "The result should be computed for a period spanning the last 3 days of the provided dataset. To name the computed areas use the pair (sensor_id, city) closest to area \"centroid\" cell.\n",
        "\n",
        "**Requeriment**: For this question, use a single framework of your choice, of those studied."
      ],
      "metadata": {
        "id": "HC6tMDOU7Fdb"
      }
    },
    {
      "cell_type": "markdown",
      "source": [
        "## General Requeriments\n",
        "\n",
        "1. Each question should answered in a separate Colab notebook, ready to run. "
      ],
      "metadata": {
        "id": "kdTj-7SD-67o"
      }
    },
    {
      "cell_type": "markdown",
      "source": [
        "## Grading Criteria \n",
        "\n",
        "1. Small bonus marks will be given if some kind of graphical output is provided to present the results;\n",
        "2. Grading will also take into account the general clarity of the programming and of the presentation of each report (notebook).\n",
        "\n",
        "\n"
      ],
      "metadata": {
        "id": "qN2ogthr_EIH"
      }
    },
    {
      "cell_type": "markdown",
      "source": [
        "### Deadline\n",
        "\n",
        "21th December 2022, 23h59.\n",
        "\n",
        "For each day late, ***0.5 / day penalty***. Penalty accumulates until\n",
        "the grade of the assignment reaches 8.0."
      ],
      "metadata": {
        "id": "8M6lYfT_BpAO"
      }
    },
    {
      "cell_type": "markdown",
      "source": [
        "---\n",
        "### Colab Setup\n"
      ],
      "metadata": {
        "id": "81dR9BTgBg1s"
      }
    },
    {
      "cell_type": "code",
      "metadata": {
        "id": "1eIWfDqQ3Cqi"
      },
      "source": [
        "#@title Mount Google Drive (Optional)\n",
        "from google.colab import drive\n",
        "drive.mount('/content/drive')"
      ],
      "execution_count": null,
      "outputs": []
    },
    {
      "cell_type": "code",
      "source": [
        "#@title Install PySpark\n",
        "!pip install pyspark findspark --quiet\n",
        "import findspark\n",
        "findspark.init()\n",
        "findspark.find()"
      ],
      "metadata": {
        "id": "L2O_3I3x1dbx"
      },
      "execution_count": null,
      "outputs": []
    }
  ]
}